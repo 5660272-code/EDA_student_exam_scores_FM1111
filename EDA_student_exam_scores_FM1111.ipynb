{
  "cells": [
    {
      "cell_type": "code",
      "source": [
        "import pandas as pd\n",
        "import numpy as np\n",
        "\n",
        "df = pd.read_csv(\"student_exam_scores.csv\")\n",
        "df.head()"
      ],
      "metadata": {
        "colab": {
          "base_uri": "https://localhost:8080/",
          "height": 206
        },
        "id": "MWNu8XpreGSK",
        "outputId": "f043465e-1c0c-416e-c135-e59d2b696108"
      },
      "execution_count": null,
      "outputs": [
        {
          "output_type": "execute_result",
          "data": {
            "text/plain": [
              "  student_id  hours_studied  sleep_hours  attendance_percent  previous_scores  \\\n",
              "0       S001            8.0          8.8                72.1               45   \n",
              "1       S002            1.3          8.6                60.7               55   \n",
              "2       S003            4.0          8.2                73.7               86   \n",
              "3       S004            3.5          4.8                95.1               66   \n",
              "4       S005            9.1          6.4                89.8               71   \n",
              "\n",
              "   exam_score  \n",
              "0        30.2  \n",
              "1        25.0  \n",
              "2        35.8  \n",
              "3        34.0  \n",
              "4        40.3  "
            ],
            "text/html": [
              "\n",
              "  <div id=\"df-0d2a5053-bdba-4df4-a164-6648e3f0cd3f\" class=\"colab-df-container\">\n",
              "    <div>\n",
              "<style scoped>\n",
              "    .dataframe tbody tr th:only-of-type {\n",
              "        vertical-align: middle;\n",
              "    }\n",
              "\n",
              "    .dataframe tbody tr th {\n",
              "        vertical-align: top;\n",
              "    }\n",
              "\n",
              "    .dataframe thead th {\n",
              "        text-align: right;\n",
              "    }\n",
              "</style>\n",
              "<table border=\"1\" class=\"dataframe\">\n",
              "  <thead>\n",
              "    <tr style=\"text-align: right;\">\n",
              "      <th></th>\n",
              "      <th>student_id</th>\n",
              "      <th>hours_studied</th>\n",
              "      <th>sleep_hours</th>\n",
              "      <th>attendance_percent</th>\n",
              "      <th>previous_scores</th>\n",
              "      <th>exam_score</th>\n",
              "    </tr>\n",
              "  </thead>\n",
              "  <tbody>\n",
              "    <tr>\n",
              "      <th>0</th>\n",
              "      <td>S001</td>\n",
              "      <td>8.0</td>\n",
              "      <td>8.8</td>\n",
              "      <td>72.1</td>\n",
              "      <td>45</td>\n",
              "      <td>30.2</td>\n",
              "    </tr>\n",
              "    <tr>\n",
              "      <th>1</th>\n",
              "      <td>S002</td>\n",
              "      <td>1.3</td>\n",
              "      <td>8.6</td>\n",
              "      <td>60.7</td>\n",
              "      <td>55</td>\n",
              "      <td>25.0</td>\n",
              "    </tr>\n",
              "    <tr>\n",
              "      <th>2</th>\n",
              "      <td>S003</td>\n",
              "      <td>4.0</td>\n",
              "      <td>8.2</td>\n",
              "      <td>73.7</td>\n",
              "      <td>86</td>\n",
              "      <td>35.8</td>\n",
              "    </tr>\n",
              "    <tr>\n",
              "      <th>3</th>\n",
              "      <td>S004</td>\n",
              "      <td>3.5</td>\n",
              "      <td>4.8</td>\n",
              "      <td>95.1</td>\n",
              "      <td>66</td>\n",
              "      <td>34.0</td>\n",
              "    </tr>\n",
              "    <tr>\n",
              "      <th>4</th>\n",
              "      <td>S005</td>\n",
              "      <td>9.1</td>\n",
              "      <td>6.4</td>\n",
              "      <td>89.8</td>\n",
              "      <td>71</td>\n",
              "      <td>40.3</td>\n",
              "    </tr>\n",
              "  </tbody>\n",
              "</table>\n",
              "</div>\n",
              "    <div class=\"colab-df-buttons\">\n",
              "\n",
              "  <div class=\"colab-df-container\">\n",
              "    <button class=\"colab-df-convert\" onclick=\"convertToInteractive('df-0d2a5053-bdba-4df4-a164-6648e3f0cd3f')\"\n",
              "            title=\"Convert this dataframe to an interactive table.\"\n",
              "            style=\"display:none;\">\n",
              "\n",
              "  <svg xmlns=\"http://www.w3.org/2000/svg\" height=\"24px\" viewBox=\"0 -960 960 960\">\n",
              "    <path d=\"M120-120v-720h720v720H120Zm60-500h600v-160H180v160Zm220 220h160v-160H400v160Zm0 220h160v-160H400v160ZM180-400h160v-160H180v160Zm440 0h160v-160H620v160ZM180-180h160v-160H180v160Zm440 0h160v-160H620v160Z\"/>\n",
              "  </svg>\n",
              "    </button>\n",
              "\n",
              "  <style>\n",
              "    .colab-df-container {\n",
              "      display:flex;\n",
              "      gap: 12px;\n",
              "    }\n",
              "\n",
              "    .colab-df-convert {\n",
              "      background-color: #E8F0FE;\n",
              "      border: none;\n",
              "      border-radius: 50%;\n",
              "      cursor: pointer;\n",
              "      display: none;\n",
              "      fill: #1967D2;\n",
              "      height: 32px;\n",
              "      padding: 0 0 0 0;\n",
              "      width: 32px;\n",
              "    }\n",
              "\n",
              "    .colab-df-convert:hover {\n",
              "      background-color: #E2EBFA;\n",
              "      box-shadow: 0px 1px 2px rgba(60, 64, 67, 0.3), 0px 1px 3px 1px rgba(60, 64, 67, 0.15);\n",
              "      fill: #174EA6;\n",
              "    }\n",
              "\n",
              "    .colab-df-buttons div {\n",
              "      margin-bottom: 4px;\n",
              "    }\n",
              "\n",
              "    [theme=dark] .colab-df-convert {\n",
              "      background-color: #3B4455;\n",
              "      fill: #D2E3FC;\n",
              "    }\n",
              "\n",
              "    [theme=dark] .colab-df-convert:hover {\n",
              "      background-color: #434B5C;\n",
              "      box-shadow: 0px 1px 3px 1px rgba(0, 0, 0, 0.15);\n",
              "      filter: drop-shadow(0px 1px 2px rgba(0, 0, 0, 0.3));\n",
              "      fill: #FFFFFF;\n",
              "    }\n",
              "  </style>\n",
              "\n",
              "    <script>\n",
              "      const buttonEl =\n",
              "        document.querySelector('#df-0d2a5053-bdba-4df4-a164-6648e3f0cd3f button.colab-df-convert');\n",
              "      buttonEl.style.display =\n",
              "        google.colab.kernel.accessAllowed ? 'block' : 'none';\n",
              "\n",
              "      async function convertToInteractive(key) {\n",
              "        const element = document.querySelector('#df-0d2a5053-bdba-4df4-a164-6648e3f0cd3f');\n",
              "        const dataTable =\n",
              "          await google.colab.kernel.invokeFunction('convertToInteractive',\n",
              "                                                    [key], {});\n",
              "        if (!dataTable) return;\n",
              "\n",
              "        const docLinkHtml = 'Like what you see? Visit the ' +\n",
              "          '<a target=\"_blank\" href=https://colab.research.google.com/notebooks/data_table.ipynb>data table notebook</a>'\n",
              "          + ' to learn more about interactive tables.';\n",
              "        element.innerHTML = '';\n",
              "        dataTable['output_type'] = 'display_data';\n",
              "        await google.colab.output.renderOutput(dataTable, element);\n",
              "        const docLink = document.createElement('div');\n",
              "        docLink.innerHTML = docLinkHtml;\n",
              "        element.appendChild(docLink);\n",
              "      }\n",
              "    </script>\n",
              "  </div>\n",
              "\n",
              "\n",
              "    <div id=\"df-9a4a2534-897a-49bf-95c3-5ed4ccb80bfd\">\n",
              "      <button class=\"colab-df-quickchart\" onclick=\"quickchart('df-9a4a2534-897a-49bf-95c3-5ed4ccb80bfd')\"\n",
              "                title=\"Suggest charts\"\n",
              "                style=\"display:none;\">\n",
              "\n",
              "<svg xmlns=\"http://www.w3.org/2000/svg\" height=\"24px\"viewBox=\"0 0 24 24\"\n",
              "     width=\"24px\">\n",
              "    <g>\n",
              "        <path d=\"M19 3H5c-1.1 0-2 .9-2 2v14c0 1.1.9 2 2 2h14c1.1 0 2-.9 2-2V5c0-1.1-.9-2-2-2zM9 17H7v-7h2v7zm4 0h-2V7h2v10zm4 0h-2v-4h2v4z\"/>\n",
              "    </g>\n",
              "</svg>\n",
              "      </button>\n",
              "\n",
              "<style>\n",
              "  .colab-df-quickchart {\n",
              "      --bg-color: #E8F0FE;\n",
              "      --fill-color: #1967D2;\n",
              "      --hover-bg-color: #E2EBFA;\n",
              "      --hover-fill-color: #174EA6;\n",
              "      --disabled-fill-color: #AAA;\n",
              "      --disabled-bg-color: #DDD;\n",
              "  }\n",
              "\n",
              "  [theme=dark] .colab-df-quickchart {\n",
              "      --bg-color: #3B4455;\n",
              "      --fill-color: #D2E3FC;\n",
              "      --hover-bg-color: #434B5C;\n",
              "      --hover-fill-color: #FFFFFF;\n",
              "      --disabled-bg-color: #3B4455;\n",
              "      --disabled-fill-color: #666;\n",
              "  }\n",
              "\n",
              "  .colab-df-quickchart {\n",
              "    background-color: var(--bg-color);\n",
              "    border: none;\n",
              "    border-radius: 50%;\n",
              "    cursor: pointer;\n",
              "    display: none;\n",
              "    fill: var(--fill-color);\n",
              "    height: 32px;\n",
              "    padding: 0;\n",
              "    width: 32px;\n",
              "  }\n",
              "\n",
              "  .colab-df-quickchart:hover {\n",
              "    background-color: var(--hover-bg-color);\n",
              "    box-shadow: 0 1px 2px rgba(60, 64, 67, 0.3), 0 1px 3px 1px rgba(60, 64, 67, 0.15);\n",
              "    fill: var(--button-hover-fill-color);\n",
              "  }\n",
              "\n",
              "  .colab-df-quickchart-complete:disabled,\n",
              "  .colab-df-quickchart-complete:disabled:hover {\n",
              "    background-color: var(--disabled-bg-color);\n",
              "    fill: var(--disabled-fill-color);\n",
              "    box-shadow: none;\n",
              "  }\n",
              "\n",
              "  .colab-df-spinner {\n",
              "    border: 2px solid var(--fill-color);\n",
              "    border-color: transparent;\n",
              "    border-bottom-color: var(--fill-color);\n",
              "    animation:\n",
              "      spin 1s steps(1) infinite;\n",
              "  }\n",
              "\n",
              "  @keyframes spin {\n",
              "    0% {\n",
              "      border-color: transparent;\n",
              "      border-bottom-color: var(--fill-color);\n",
              "      border-left-color: var(--fill-color);\n",
              "    }\n",
              "    20% {\n",
              "      border-color: transparent;\n",
              "      border-left-color: var(--fill-color);\n",
              "      border-top-color: var(--fill-color);\n",
              "    }\n",
              "    30% {\n",
              "      border-color: transparent;\n",
              "      border-left-color: var(--fill-color);\n",
              "      border-top-color: var(--fill-color);\n",
              "      border-right-color: var(--fill-color);\n",
              "    }\n",
              "    40% {\n",
              "      border-color: transparent;\n",
              "      border-right-color: var(--fill-color);\n",
              "      border-top-color: var(--fill-color);\n",
              "    }\n",
              "    60% {\n",
              "      border-color: transparent;\n",
              "      border-right-color: var(--fill-color);\n",
              "    }\n",
              "    80% {\n",
              "      border-color: transparent;\n",
              "      border-right-color: var(--fill-color);\n",
              "      border-bottom-color: var(--fill-color);\n",
              "    }\n",
              "    90% {\n",
              "      border-color: transparent;\n",
              "      border-bottom-color: var(--fill-color);\n",
              "    }\n",
              "  }\n",
              "</style>\n",
              "\n",
              "      <script>\n",
              "        async function quickchart(key) {\n",
              "          const quickchartButtonEl =\n",
              "            document.querySelector('#' + key + ' button');\n",
              "          quickchartButtonEl.disabled = true;  // To prevent multiple clicks.\n",
              "          quickchartButtonEl.classList.add('colab-df-spinner');\n",
              "          try {\n",
              "            const charts = await google.colab.kernel.invokeFunction(\n",
              "                'suggestCharts', [key], {});\n",
              "          } catch (error) {\n",
              "            console.error('Error during call to suggestCharts:', error);\n",
              "          }\n",
              "          quickchartButtonEl.classList.remove('colab-df-spinner');\n",
              "          quickchartButtonEl.classList.add('colab-df-quickchart-complete');\n",
              "        }\n",
              "        (() => {\n",
              "          let quickchartButtonEl =\n",
              "            document.querySelector('#df-9a4a2534-897a-49bf-95c3-5ed4ccb80bfd button');\n",
              "          quickchartButtonEl.style.display =\n",
              "            google.colab.kernel.accessAllowed ? 'block' : 'none';\n",
              "        })();\n",
              "      </script>\n",
              "    </div>\n",
              "\n",
              "    </div>\n",
              "  </div>\n"
            ],
            "application/vnd.google.colaboratory.intrinsic+json": {
              "type": "dataframe",
              "variable_name": "df",
              "summary": "{\n  \"name\": \"df\",\n  \"rows\": 200,\n  \"fields\": [\n    {\n      \"column\": \"student_id\",\n      \"properties\": {\n        \"dtype\": \"string\",\n        \"num_unique_values\": 200,\n        \"samples\": [\n          \"S096\",\n          \"S016\",\n          \"S031\"\n        ],\n        \"semantic_type\": \"\",\n        \"description\": \"\"\n      }\n    },\n    {\n      \"column\": \"hours_studied\",\n      \"properties\": {\n        \"dtype\": \"number\",\n        \"std\": 3.2273174058637246,\n        \"min\": 1.0,\n        \"max\": 12.0,\n        \"num_unique_values\": 96,\n        \"samples\": [\n          4.4,\n          1.2,\n          9.4\n        ],\n        \"semantic_type\": \"\",\n        \"description\": \"\"\n      }\n    },\n    {\n      \"column\": \"sleep_hours\",\n      \"properties\": {\n        \"dtype\": \"number\",\n        \"std\": 1.497138308767059,\n        \"min\": 4.0,\n        \"max\": 9.0,\n        \"num_unique_values\": 50,\n        \"samples\": [\n          6.1,\n          7.3,\n          7.1\n        ],\n        \"semantic_type\": \"\",\n        \"description\": \"\"\n      }\n    },\n    {\n      \"column\": \"attendance_percent\",\n      \"properties\": {\n        \"dtype\": \"number\",\n        \"std\": 14.249905227578703,\n        \"min\": 50.3,\n        \"max\": 100.0,\n        \"num_unique_values\": 167,\n        \"samples\": [\n          66.3,\n          67.5,\n          87.7\n        ],\n        \"semantic_type\": \"\",\n        \"description\": \"\"\n      }\n    },\n    {\n      \"column\": \"previous_scores\",\n      \"properties\": {\n        \"dtype\": \"number\",\n        \"std\": 15,\n        \"min\": 40,\n        \"max\": 95,\n        \"num_unique_values\": 54,\n        \"samples\": [\n          77,\n          91,\n          49\n        ],\n        \"semantic_type\": \"\",\n        \"description\": \"\"\n      }\n    },\n    {\n      \"column\": \"exam_score\",\n      \"properties\": {\n        \"dtype\": \"number\",\n        \"std\": 6.789548204712934,\n        \"min\": 17.1,\n        \"max\": 51.3,\n        \"num_unique_values\": 139,\n        \"samples\": [\n          33.8,\n          47.9,\n          38.1\n        ],\n        \"semantic_type\": \"\",\n        \"description\": \"\"\n      }\n    }\n  ]\n}"
            }
          },
          "metadata": {},
          "execution_count": 6
        }
      ]
    },
    {
      "cell_type": "code",
      "source": [
        "df.shape"
      ],
      "metadata": {
        "colab": {
          "base_uri": "https://localhost:8080/"
        },
        "id": "MB7WeE_Kezr8",
        "outputId": "ff6862bf-7f1d-4e6b-a713-9bbb2f1a040b"
      },
      "execution_count": null,
      "outputs": [
        {
          "output_type": "execute_result",
          "data": {
            "text/plain": [
              "(200, 6)"
            ]
          },
          "metadata": {},
          "execution_count": 7
        }
      ]
    },
    {
      "cell_type": "code",
      "source": [
        "df.columns\n",
        "df.dtypes\n"
      ],
      "metadata": {
        "colab": {
          "base_uri": "https://localhost:8080/",
          "height": 272
        },
        "id": "g4mejQqTfL9h",
        "outputId": "91990ecc-0103-4b90-f62b-721f25c9d744"
      },
      "execution_count": null,
      "outputs": [
        {
          "output_type": "execute_result",
          "data": {
            "text/plain": [
              "student_id             object\n",
              "hours_studied         float64\n",
              "sleep_hours           float64\n",
              "attendance_percent    float64\n",
              "previous_scores         int64\n",
              "exam_score            float64\n",
              "dtype: object"
            ],
            "text/html": [
              "<div>\n",
              "<style scoped>\n",
              "    .dataframe tbody tr th:only-of-type {\n",
              "        vertical-align: middle;\n",
              "    }\n",
              "\n",
              "    .dataframe tbody tr th {\n",
              "        vertical-align: top;\n",
              "    }\n",
              "\n",
              "    .dataframe thead th {\n",
              "        text-align: right;\n",
              "    }\n",
              "</style>\n",
              "<table border=\"1\" class=\"dataframe\">\n",
              "  <thead>\n",
              "    <tr style=\"text-align: right;\">\n",
              "      <th></th>\n",
              "      <th>0</th>\n",
              "    </tr>\n",
              "  </thead>\n",
              "  <tbody>\n",
              "    <tr>\n",
              "      <th>student_id</th>\n",
              "      <td>object</td>\n",
              "    </tr>\n",
              "    <tr>\n",
              "      <th>hours_studied</th>\n",
              "      <td>float64</td>\n",
              "    </tr>\n",
              "    <tr>\n",
              "      <th>sleep_hours</th>\n",
              "      <td>float64</td>\n",
              "    </tr>\n",
              "    <tr>\n",
              "      <th>attendance_percent</th>\n",
              "      <td>float64</td>\n",
              "    </tr>\n",
              "    <tr>\n",
              "      <th>previous_scores</th>\n",
              "      <td>int64</td>\n",
              "    </tr>\n",
              "    <tr>\n",
              "      <th>exam_score</th>\n",
              "      <td>float64</td>\n",
              "    </tr>\n",
              "  </tbody>\n",
              "</table>\n",
              "</div><br><label><b>dtype:</b> object</label>"
            ]
          },
          "metadata": {},
          "execution_count": 8
        }
      ]
    },
    {
      "cell_type": "code",
      "source": [
        "df.isnull().sum()\n"
      ],
      "metadata": {
        "colab": {
          "base_uri": "https://localhost:8080/",
          "height": 272
        },
        "id": "1Chc2NNpfXK1",
        "outputId": "5b569ff5-a2b2-4bb1-956c-a9b601c23db9"
      },
      "execution_count": null,
      "outputs": [
        {
          "output_type": "execute_result",
          "data": {
            "text/plain": [
              "student_id            0\n",
              "hours_studied         0\n",
              "sleep_hours           0\n",
              "attendance_percent    0\n",
              "previous_scores       0\n",
              "exam_score            0\n",
              "dtype: int64"
            ],
            "text/html": [
              "<div>\n",
              "<style scoped>\n",
              "    .dataframe tbody tr th:only-of-type {\n",
              "        vertical-align: middle;\n",
              "    }\n",
              "\n",
              "    .dataframe tbody tr th {\n",
              "        vertical-align: top;\n",
              "    }\n",
              "\n",
              "    .dataframe thead th {\n",
              "        text-align: right;\n",
              "    }\n",
              "</style>\n",
              "<table border=\"1\" class=\"dataframe\">\n",
              "  <thead>\n",
              "    <tr style=\"text-align: right;\">\n",
              "      <th></th>\n",
              "      <th>0</th>\n",
              "    </tr>\n",
              "  </thead>\n",
              "  <tbody>\n",
              "    <tr>\n",
              "      <th>student_id</th>\n",
              "      <td>0</td>\n",
              "    </tr>\n",
              "    <tr>\n",
              "      <th>hours_studied</th>\n",
              "      <td>0</td>\n",
              "    </tr>\n",
              "    <tr>\n",
              "      <th>sleep_hours</th>\n",
              "      <td>0</td>\n",
              "    </tr>\n",
              "    <tr>\n",
              "      <th>attendance_percent</th>\n",
              "      <td>0</td>\n",
              "    </tr>\n",
              "    <tr>\n",
              "      <th>previous_scores</th>\n",
              "      <td>0</td>\n",
              "    </tr>\n",
              "    <tr>\n",
              "      <th>exam_score</th>\n",
              "      <td>0</td>\n",
              "    </tr>\n",
              "  </tbody>\n",
              "</table>\n",
              "</div><br><label><b>dtype:</b> int64</label>"
            ]
          },
          "metadata": {},
          "execution_count": 9
        }
      ]
    },
    {
      "cell_type": "code",
      "source": [
        "df.nunique()\n"
      ],
      "metadata": {
        "colab": {
          "base_uri": "https://localhost:8080/",
          "height": 272
        },
        "id": "APM9uIU5fclf",
        "outputId": "a96d94c9-8855-4c18-bc6e-b1e523696a6f"
      },
      "execution_count": null,
      "outputs": [
        {
          "output_type": "execute_result",
          "data": {
            "text/plain": [
              "student_id            200\n",
              "hours_studied          96\n",
              "sleep_hours            50\n",
              "attendance_percent    167\n",
              "previous_scores        54\n",
              "exam_score            139\n",
              "dtype: int64"
            ],
            "text/html": [
              "<div>\n",
              "<style scoped>\n",
              "    .dataframe tbody tr th:only-of-type {\n",
              "        vertical-align: middle;\n",
              "    }\n",
              "\n",
              "    .dataframe tbody tr th {\n",
              "        vertical-align: top;\n",
              "    }\n",
              "\n",
              "    .dataframe thead th {\n",
              "        text-align: right;\n",
              "    }\n",
              "</style>\n",
              "<table border=\"1\" class=\"dataframe\">\n",
              "  <thead>\n",
              "    <tr style=\"text-align: right;\">\n",
              "      <th></th>\n",
              "      <th>0</th>\n",
              "    </tr>\n",
              "  </thead>\n",
              "  <tbody>\n",
              "    <tr>\n",
              "      <th>student_id</th>\n",
              "      <td>200</td>\n",
              "    </tr>\n",
              "    <tr>\n",
              "      <th>hours_studied</th>\n",
              "      <td>96</td>\n",
              "    </tr>\n",
              "    <tr>\n",
              "      <th>sleep_hours</th>\n",
              "      <td>50</td>\n",
              "    </tr>\n",
              "    <tr>\n",
              "      <th>attendance_percent</th>\n",
              "      <td>167</td>\n",
              "    </tr>\n",
              "    <tr>\n",
              "      <th>previous_scores</th>\n",
              "      <td>54</td>\n",
              "    </tr>\n",
              "    <tr>\n",
              "      <th>exam_score</th>\n",
              "      <td>139</td>\n",
              "    </tr>\n",
              "  </tbody>\n",
              "</table>\n",
              "</div><br><label><b>dtype:</b> int64</label>"
            ]
          },
          "metadata": {},
          "execution_count": 10
        }
      ]
    },
    {
      "cell_type": "code",
      "source": [
        "df.duplicated().sum()\n"
      ],
      "metadata": {
        "colab": {
          "base_uri": "https://localhost:8080/"
        },
        "id": "-M1iU6vZflWo",
        "outputId": "c2dec2f4-e273-4c05-e0c9-dd64e442bfdc"
      },
      "execution_count": null,
      "outputs": [
        {
          "output_type": "execute_result",
          "data": {
            "text/plain": [
              "np.int64(0)"
            ]
          },
          "metadata": {},
          "execution_count": 11
        }
      ]
    },
    {
      "cell_type": "code",
      "source": [
        "\n",
        "invalid_scores = df[df['exam_score'] > 0]\n",
        "print(invalid_scores)\n"
      ],
      "metadata": {
        "colab": {
          "base_uri": "https://localhost:8080/"
        },
        "id": "P3BLO6x2fofF",
        "outputId": "14ab870d-bd62-48a2-bc40-c4bdd959b586"
      },
      "execution_count": null,
      "outputs": [
        {
          "output_type": "stream",
          "name": "stdout",
          "text": [
            "    student_id  hours_studied  sleep_hours  attendance_percent  \\\n",
            "0         S001            8.0          8.8                72.1   \n",
            "1         S002            1.3          8.6                60.7   \n",
            "2         S003            4.0          8.2                73.7   \n",
            "3         S004            3.5          4.8                95.1   \n",
            "4         S005            9.1          6.4                89.8   \n",
            "..         ...            ...          ...                 ...   \n",
            "195       S196           10.5          5.4                94.0   \n",
            "196       S197            7.1          6.1                85.1   \n",
            "197       S198            1.6          6.9                63.8   \n",
            "198       S199           12.0          7.3                50.5   \n",
            "199       S200           10.2          6.3                97.4   \n",
            "\n",
            "     previous_scores  exam_score  \n",
            "0                 45        30.2  \n",
            "1                 55        25.0  \n",
            "2                 86        35.8  \n",
            "3                 66        34.0  \n",
            "4                 71        40.3  \n",
            "..               ...         ...  \n",
            "195               87        42.7  \n",
            "196               92        40.4  \n",
            "197               76        28.2  \n",
            "198               58        42.0  \n",
            "199               68        37.8  \n",
            "\n",
            "[200 rows x 6 columns]\n"
          ]
        }
      ]
    },
    {
      "cell_type": "code",
      "source": [
        "\n",
        "numerical_cols = df.select_dtypes(include=np.number).columns\n",
        "df[numerical_cols] = df[numerical_cols].fillna(df[numerical_cols].mean())\n",
        "\n",
        "df = df.drop_duplicates()\n",
        "\n",
        "df = df[df['exam_score'] >= 0]\n",
        "\n",
        "df.columns = df.columns.str.strip()\n",
        "\n",
        "print(f\"Cleaned data:\\n{df.head()}\")"
      ],
      "metadata": {
        "colab": {
          "base_uri": "https://localhost:8080/"
        },
        "id": "Fqi24zFlkg7Q",
        "outputId": "0dd48962-13cd-42cf-aee4-ea80ccb1198f"
      },
      "execution_count": null,
      "outputs": [
        {
          "output_type": "stream",
          "name": "stdout",
          "text": [
            "Cleaned data:\n",
            "  student_id  hours_studied  sleep_hours  attendance_percent  previous_scores  \\\n",
            "0       S001            8.0          8.8                72.1               45   \n",
            "1       S002            1.3          8.6                60.7               55   \n",
            "2       S003            4.0          8.2                73.7               86   \n",
            "3       S004            3.5          4.8                95.1               66   \n",
            "4       S005            9.1          6.4                89.8               71   \n",
            "\n",
            "   exam_score  \n",
            "0        30.2  \n",
            "1        25.0  \n",
            "2        35.8  \n",
            "3        34.0  \n",
            "4        40.3  \n"
          ]
        }
      ]
    },
    {
      "cell_type": "code",
      "source": [
        "\n",
        "print(f\"Descriptive Statistics for numerical data:\\n{df.describe()}\")\n",
        "\n",
        "if 'attendance_percent' in df.columns:\n",
        "    print(f\"Gender distribution:\\n{df['attendance_percent'].value_counts()}\")\n",
        "\n",
        "if 'previous_scores' in df.columns:\n",
        "    print(f\"Subject distribution:\\n{df['previous_scores'].value_counts()}\")\n"
      ],
      "metadata": {
        "colab": {
          "base_uri": "https://localhost:8080/"
        },
        "id": "SniJzXWhkg6O",
        "outputId": "e59b21be-a50d-464c-ee18-d89aad0168e6"
      },
      "execution_count": null,
      "outputs": [
        {
          "output_type": "stream",
          "name": "stdout",
          "text": [
            "Descriptive Statistics for numerical data:\n",
            "       hours_studied  sleep_hours  attendance_percent  previous_scores  \\\n",
            "count     200.000000   200.000000          200.000000       200.000000   \n",
            "mean        6.325500     6.622000           74.830000        66.800000   \n",
            "std         3.227317     1.497138           14.249905        15.663869   \n",
            "min         1.000000     4.000000           50.300000        40.000000   \n",
            "25%         3.500000     5.300000           62.200000        54.000000   \n",
            "50%         6.150000     6.700000           75.250000        67.500000   \n",
            "75%         9.000000     8.025000           87.425000        80.000000   \n",
            "max        12.000000     9.000000          100.000000        95.000000   \n",
            "\n",
            "       exam_score  \n",
            "count  200.000000  \n",
            "mean    33.955000  \n",
            "std      6.789548  \n",
            "min     17.100000  \n",
            "25%     29.500000  \n",
            "50%     34.050000  \n",
            "75%     38.750000  \n",
            "max     51.300000  \n",
            "Gender distribution:\n",
            "attendance_percent\n",
            "92.5    4\n",
            "62.2    3\n",
            "88.3    3\n",
            "69.0    3\n",
            "71.8    3\n",
            "       ..\n",
            "94.0    1\n",
            "85.1    1\n",
            "63.8    1\n",
            "50.5    1\n",
            "97.4    1\n",
            "Name: count, Length: 167, dtype: int64\n",
            "Subject distribution:\n",
            "previous_scores\n",
            "58    9\n",
            "84    7\n",
            "70    7\n",
            "54    7\n",
            "59    7\n",
            "75    6\n",
            "68    6\n",
            "88    6\n",
            "55    5\n",
            "90    5\n",
            "43    5\n",
            "78    5\n",
            "47    5\n",
            "87    5\n",
            "76    5\n",
            "95    5\n",
            "44    5\n",
            "57    4\n",
            "77    4\n",
            "45    4\n",
            "71    4\n",
            "52    4\n",
            "56    4\n",
            "51    4\n",
            "80    4\n",
            "49    4\n",
            "50    3\n",
            "85    3\n",
            "73    3\n",
            "86    3\n",
            "66    3\n",
            "79    3\n",
            "40    3\n",
            "92    3\n",
            "82    3\n",
            "53    3\n",
            "46    3\n",
            "67    3\n",
            "74    3\n",
            "63    2\n",
            "81    2\n",
            "65    2\n",
            "91    2\n",
            "62    2\n",
            "61    2\n",
            "69    2\n",
            "48    2\n",
            "83    2\n",
            "42    2\n",
            "41    1\n",
            "93    1\n",
            "60    1\n",
            "89    1\n",
            "64    1\n",
            "Name: count, dtype: int64\n"
          ]
        }
      ]
    },
    {
      "cell_type": "code",
      "source": [
        "from sklearn.preprocessing import StandardScaler\n",
        "\n",
        "scaler = StandardScaler()\n",
        "df[['hours_studied', 'exam_score']] = scaler.fit_transform(df[['hours_studied', 'exam_score']])\n",
        "print(df.head())\n"
      ],
      "metadata": {
        "colab": {
          "base_uri": "https://localhost:8080/"
        },
        "id": "OSZmm7yhnasK",
        "outputId": "ff9993de-cabd-4221-ec61-6c3761f40482"
      },
      "execution_count": null,
      "outputs": [
        {
          "output_type": "stream",
          "name": "stdout",
          "text": [
            "  student_id  hours_studied  sleep_hours  attendance_percent  previous_scores  \\\n",
            "0       S001       0.520154          8.8                72.1               45   \n",
            "1       S002      -1.561083          8.6                60.7               55   \n",
            "2       S003      -0.722376          8.2                73.7               86   \n",
            "3       S004      -0.877692          4.8                95.1               66   \n",
            "4       S005       0.861850          6.4                89.8               71   \n",
            "\n",
            "   exam_score  \n",
            "0   -0.554444  \n",
            "1   -1.322249  \n",
            "2    0.272423  \n",
            "3    0.006644  \n",
            "4    0.936870  \n"
          ]
        }
      ]
    },
    {
      "cell_type": "code",
      "source": [
        "Q1, Q3 = df['exam_score'].quantile(0.25), df['exam_score'].quantile(0.75)\n",
        "IQR = Q3 - Q1\n",
        "df_filtered = df[(df['exam_score'] >= Q1 - 1.5 * IQR) & (df['exam_score'] <= Q3 + 1.5 * IQR)]\n",
        "\n",
        "\n",
        "print(f\"Initial shape: {df.shape}\")\n",
        "print(f\"Shape after removing outliers: {df_filtered.shape}\")\n"
      ],
      "metadata": {
        "colab": {
          "base_uri": "https://localhost:8080/"
        },
        "id": "dhORbmL6narY",
        "outputId": "56ba3882-409d-48bb-dbce-08e954c47951"
      },
      "execution_count": null,
      "outputs": [
        {
          "output_type": "stream",
          "name": "stdout",
          "text": [
            "Initial shape: (200, 6)\n",
            "Shape after removing outliers: (200, 6)\n"
          ]
        }
      ]
    },
    {
      "cell_type": "code",
      "source": [
        "\n",
        "print(df.describe())\n",
        "\n",
        "\n",
        "if 'sleep_hours' in df.columns:\n",
        "    print(f\"Gender distribution:\\n{df['sleep_hours'].value_counts()}\")\n"
      ],
      "metadata": {
        "colab": {
          "base_uri": "https://localhost:8080/"
        },
        "id": "0UXGBLDDpVIO",
        "outputId": "a6b3202f-f7a0-4e4e-9c7f-b5f422335263"
      },
      "execution_count": null,
      "outputs": [
        {
          "output_type": "stream",
          "name": "stdout",
          "text": [
            "       hours_studied  sleep_hours  attendance_percent  previous_scores  \\\n",
            "count   2.000000e+02   200.000000          200.000000       200.000000   \n",
            "mean    3.996803e-17     6.622000           74.830000        66.800000   \n",
            "std     1.002509e+00     1.497138           14.249905        15.663869   \n",
            "min    -1.654273e+00     4.000000           50.300000        40.000000   \n",
            "25%    -8.776919e-01     5.300000           62.200000        54.000000   \n",
            "50%    -5.451599e-02     6.700000           75.250000        67.500000   \n",
            "75%     8.307864e-01     8.025000           87.425000        80.000000   \n",
            "max     1.762684e+00     9.000000          100.000000        95.000000   \n",
            "\n",
            "         exam_score  \n",
            "count  2.000000e+02  \n",
            "mean   2.664535e-16  \n",
            "std    1.002509e+00  \n",
            "min   -2.488722e+00  \n",
            "25%   -6.578022e-01  \n",
            "50%    1.402721e-02  \n",
            "75%    7.080048e-01  \n",
            "max    2.561073e+00  \n",
            "Gender distribution:\n",
            "sleep_hours\n",
            "5.5    9\n",
            "5.3    7\n",
            "6.1    6\n",
            "8.8    6\n",
            "6.0    6\n",
            "7.6    6\n",
            "8.5    6\n",
            "8.7    6\n",
            "8.3    6\n",
            "6.9    6\n",
            "8.4    6\n",
            "4.6    5\n",
            "6.7    5\n",
            "4.0    5\n",
            "8.9    5\n",
            "8.2    5\n",
            "5.1    5\n",
            "4.8    5\n",
            "4.5    5\n",
            "5.6    4\n",
            "5.4    4\n",
            "5.2    4\n",
            "7.3    4\n",
            "7.1    4\n",
            "6.3    4\n",
            "7.9    4\n",
            "8.1    4\n",
            "7.4    4\n",
            "4.4    4\n",
            "7.7    4\n",
            "7.0    4\n",
            "8.6    3\n",
            "4.3    3\n",
            "6.8    3\n",
            "8.0    3\n",
            "7.2    3\n",
            "9.0    3\n",
            "5.0    3\n",
            "6.4    2\n",
            "5.9    2\n",
            "4.9    2\n",
            "6.6    2\n",
            "5.7    2\n",
            "4.7    2\n",
            "5.8    2\n",
            "7.5    2\n",
            "4.1    2\n",
            "6.5    1\n",
            "7.8    1\n",
            "6.2    1\n",
            "Name: count, dtype: int64\n"
          ]
        }
      ]
    },
    {
      "cell_type": "code",
      "source": [
        "import seaborn as sns\n",
        "import matplotlib.pyplot as plt\n",
        "\n",
        "# Plot distribution of 'exam_score'\n",
        "plt.figure(figsize=(8, 5))\n",
        "sns.histplot(df['exam_score'], kde=True)\n",
        "plt.title('Distribution of Exam Scores')\n",
        "plt.show()\n"
      ],
      "metadata": {
        "colab": {
          "base_uri": "https://localhost:8080/",
          "height": 487
        },
        "id": "O_8o66MDpVHe",
        "outputId": "f229ab53-b937-4563-9bb3-ab9dbefe5dc3"
      },
      "execution_count": null,
      "outputs": [
        {
          "output_type": "display_data",
          "data": {
            "text/plain": [
              "<Figure size 800x500 with 1 Axes>"
            ],
            "image/png": "[encoded data removed]"
          },
          "metadata": {}
        }
      ]
    },
    {
      "cell_type": "code",
      "source": [
        "# Boxplot to visualize the spread of 'exam_score'\n",
        "plt.figure(figsize=(8, 5))\n",
        "sns.boxplot(x=df['exam_score'])\n",
        "plt.title('Boxplot of Exam Scores')\n",
        "plt.show()\n"
      ],
      "metadata": {
        "colab": {
          "base_uri": "https://localhost:8080/",
          "height": 487
        },
        "id": "aNEQsD3cqF4Y",
        "outputId": "9fe699f6-3706-44b5-cce2-939a7bdd33fd"
      },
      "execution_count": null,
      "outputs": [
        {
          "output_type": "display_data",
          "data": {
            "text/plain": [
              "<Figure size 800x500 with 1 Axes>"
            ],
            "image/png": "[encoded data removed]"
          },
          "metadata": {}
        }
      ]
    },
    {
      "cell_type": "code",
      "source": [
        "# Scatter plot to show relationship between 'study_hours' and 'exam_score'\n",
        "plt.figure(figsize=(8, 5))\n",
        "sns.scatterplot(x='hours_studied', y='exam_score', data=df)\n",
        "plt.title('Study Hours vs Exam Score')\n",
        "plt.show()\n"
      ],
      "metadata": {
        "colab": {
          "base_uri": "https://localhost:8080/",
          "height": 487
        },
        "id": "YVN1lefNqcKn",
        "outputId": "424845bc-6fb7-45de-8279-cab9a7b00b02"
      },
      "execution_count": null,
      "outputs": [
        {
          "output_type": "display_data",
          "data": {
            "text/plain": [
              "<Figure size 800x500 with 1 Axes>"
            ],
            "image/png": "[encoded data removed]"
          },
          "metadata": {}
        }
      ]
    },
    {
      "cell_type": "code",
      "source": [
        "\n",
        "numeric_cols = df[['exam_score', 'sleep_hours', 'previous_scores', 'hours_studied']]\n",
        "\n",
        "# Plot the correlation heatmap\n",
        "plt.figure(figsize=(10, 7))\n",
        "sns.heatmap(numeric_cols.corr(), annot=True, cmap='coolwarm', fmt='.2f', linewidths=0.5)\n",
        "plt.title('Correlation Matrix')\n",
        "plt.show()\n"
      ],
      "metadata": {
        "colab": {
          "base_uri": "https://localhost:8080/",
          "height": 622
        },
        "id": "7mgg8P6PqvPm",
        "outputId": "6ef9fd17-2fd5-47d8-fbc9-d0ef2e55b239"
      },
      "execution_count": null,
      "outputs": [
        {
          "output_type": "display_data",
          "data": {
            "text/plain": [
              "<Figure size 1000x700 with 2 Axes>"
            ],
            "image/png": "[encoded data removed]"
          },
          "metadata": {}
        }
      ]
    },
    {
      "cell_type": "code",
      "source": [
        "import pandas as pd\n",
        "\n",
        "df = pd.read_csv(\"student_exam_scores.csv\")\n",
        "\n",
        "print(\"Dataset Overview:\")\n",
        "print(f\"Shape: {df.shape}\")\n",
        "print(f\"Columns: {df.columns}\")\n",
        "print(f\"Missing values:\\n{df.isnull().sum()}\")\n",
        "print(f\"Data types:\\n{df.dtypes}\\n\")\n"
      ],
      "metadata": {
        "colab": {
          "base_uri": "https://localhost:8080/"
        },
        "id": "2QkWga4rqvOy",
        "outputId": "aa229233-a177-4844-e48e-eb95368f8835"
      },
      "execution_count": null,
      "outputs": [
        {
          "output_type": "stream",
          "name": "stdout",
          "text": [
            "Dataset Overview:\n",
            "Shape: (200, 6)\n",
            "Columns: Index(['student_id', 'hours_studied', 'sleep_hours', 'attendance_percent',\n",
            "       'previous_scores', 'exam_score'],\n",
            "      dtype='object')\n",
            "Missing values:\n",
            "student_id            0\n",
            "hours_studied         0\n",
            "sleep_hours           0\n",
            "attendance_percent    0\n",
            "previous_scores       0\n",
            "exam_score            0\n",
            "dtype: int64\n",
            "Data types:\n",
            "student_id             object\n",
            "hours_studied         float64\n",
            "sleep_hours           float64\n",
            "attendance_percent    float64\n",
            "previous_scores         int64\n",
            "exam_score            float64\n",
            "dtype: object\n",
            "\n"
          ]
        }
      ]
    },
    {
      "cell_type": "code",
      "source": [
        "# Descriptive statistics\n",
        "\n",
        "print(\"Descriptive Statistics:\")\n",
        "print(df.describe())\n"
      ],
      "metadata": {
        "colab": {
          "base_uri": "https://localhost:8080/"
        },
        "id": "2jfx1Sh6vfyJ",
        "outputId": "99d71d1e-080b-45e9-a837-9d2ad2a31210"
      },
      "execution_count": null,
      "outputs": [
        {
          "output_type": "stream",
          "name": "stdout",
          "text": [
            "Descriptive Statistics:\n",
            "       hours_studied  sleep_hours  attendance_percent  previous_scores  \\\n",
            "count     200.000000   200.000000          200.000000       200.000000   \n",
            "mean        6.325500     6.622000           74.830000        66.800000   \n",
            "std         3.227317     1.497138           14.249905        15.663869   \n",
            "min         1.000000     4.000000           50.300000        40.000000   \n",
            "25%         3.500000     5.300000           62.200000        54.000000   \n",
            "50%         6.150000     6.700000           75.250000        67.500000   \n",
            "75%         9.000000     8.025000           87.425000        80.000000   \n",
            "max        12.000000     9.000000          100.000000        95.000000   \n",
            "\n",
            "       exam_score  \n",
            "count  200.000000  \n",
            "mean    33.955000  \n",
            "std      6.789548  \n",
            "min     17.100000  \n",
            "25%     29.500000  \n",
            "50%     34.050000  \n",
            "75%     38.750000  \n",
            "max     51.300000  \n"
          ]
        }
      ]
    },
    {
      "cell_type": "code",
      "source": [
        "numeric_cols = df[['exam_score', 'sleep_hours', 'previous_scores', 'hours_studied']]\n",
        "\n",
        "correlation_matrix = numeric_cols.corr()\n",
        "print(\"Correlation Matrix:\")\n",
        "print(correlation_matrix)\n"
      ],
      "metadata": {
        "colab": {
          "base_uri": "https://localhost:8080/"
        },
        "id": "kI4e18ravwmh",
        "outputId": "113e3a25-a846-47c4-9c54-ce99dc9aaf78"
      },
      "execution_count": null,
      "outputs": [
        {
          "output_type": "stream",
          "name": "stdout",
          "text": [
            "Correlation Matrix:\n",
            "                 exam_score  sleep_hours  previous_scores  hours_studied\n",
            "exam_score         1.000000     0.188222         0.431105       0.776751\n",
            "sleep_hours        0.188222     1.000000        -0.194251       0.077864\n",
            "previous_scores    0.431105    -0.194251         1.000000       0.069078\n",
            "hours_studied      0.776751     0.077864         0.069078       1.000000\n"
          ]
        }
      ]
    },
    {
      "cell_type": "code",
      "source": [
        "# Key Findings\n",
        "print(\"\\nKey Findings:\")\n",
        "print(\"- The dataset contains numerical and categorical features like 'hours_studied', 'exam_score', and 'sleep_hours'.\")\n",
        "print(\"- There are no missing values after handling them.\")\n",
        "print(\"- The 'hours_studied' and 'exam_score' columns are strongly correlated (~0.80).\")\n"
      ],
      "metadata": {
        "colab": {
          "base_uri": "https://localhost:8080/"
        },
        "id": "Pc6n1jF7wzL2",
        "outputId": "fbac52cd-71cc-4ce4-d1ef-334b7bee1857"
      },
      "execution_count": null,
      "outputs": [
        {
          "output_type": "stream",
          "name": "stdout",
          "text": [
            "\n",
            "Key Findings:\n",
            "- The dataset contains numerical and categorical features like 'hours_studied', 'exam_score', and 'sleep_hours'.\n",
            "- There are no missing values after handling them.\n",
            "- The 'hours_studied' and 'exam_score' columns are strongly correlated (~0.80).\n"
          ]
        }
      ]
    },
    {
      "cell_type": "code",
      "source": [
        "# Trends and Anomalies\n",
        "print(\"\\nTrends and Anomalies:\")\n",
        "print(\"- There is a positive trend between 'hours_studied' and 'exam_score'. As students study more, their scores tend to increase.\")\n",
        "print(\"- Any extreme values or negative scores were removed using the IQR method.\")\n",
        "print(\"- A few students had extreme outliers in their study hours or scores, but these were dealt with.\")\n"
      ],
      "metadata": {
        "colab": {
          "base_uri": "https://localhost:8080/"
        },
        "id": "gQe2T2uiySJH",
        "outputId": "cea31b8a-7f49-4ba8-a323-1ed93a0e641f"
      },
      "execution_count": null,
      "outputs": [
        {
          "output_type": "stream",
          "name": "stdout",
          "text": [
            "\n",
            "Trends and Anomalies:\n",
            "- There is a positive trend between 'hours_studied' and 'exam_score'. As students study more, their scores tend to increase.\n",
            "- Any extreme values or negative scores were removed using the IQR method.\n",
            "- A few students had extreme outliers in their study hours or scores, but these were dealt with.\n"
          ]
        }
      ]
    },
    {
      "cell_type": "code",
      "source": [
        "# Relationships Between Features\n",
        "print(\"\\nRelationships Between Features:\")\n",
        "print(\"- The 'exam_score' is strongly related to 'hours_studied' as indicated by the high correlation (~0.80).\")\n",
        "print(\"- Other features like 'previous_scores' and 'sleep_hours' may have weaker correlations, but it's worth exploring further.\")\n",
        "print(\"- If 'sleep_hours' and 'previous_scores' are significant, they might need encoding or transformation for modeling.\")\n"
      ],
      "metadata": {
        "colab": {
          "base_uri": "https://localhost:8080/"
        },
        "id": "FdsdfGxjyd1V",
        "outputId": "5d5fa217-e96a-432c-d218-67f29d4c46be"
      },
      "execution_count": null,
      "outputs": [
        {
          "output_type": "stream",
          "name": "stdout",
          "text": [
            "\n",
            "Relationships Between Features:\n",
            "- The 'exam_score' is strongly related to 'hours_studied' as indicated by the high correlation (~0.80).\n",
            "- Other features like 'previous_scores' and 'sleep_hours' may have weaker correlations, but it's worth exploring further.\n",
            "- If 'sleep_hours' and 'previous_scores' are significant, they might need encoding or transformation for modeling.\n"
          ]
        }
      ]
    },
    {
      "cell_type": "code",
      "source": [
        "# Implications for Modeling\n",
        "print(\"\\nImplications for Modeling:\")\n",
        "print(\"- The strong relationship between 'hours_studied' and 'exam_score' suggests that a regression model could work well.\")\n",
        "print(\"- Features like 'sleep_hours' need to be encoded (e.g., One-Hot Encoding or Label Encoding).\")\n",
        "print(\"- Outliers in the 'exam_score' and 'hours_studied' columns have been removed, ensuring the model is not skewed.\")\n",
        "print(\"- Scaling the data may be necessary if we use models sensitive to feature scales (e.g., SVM, KNN).\")\n"
      ],
      "metadata": {
        "colab": {
          "base_uri": "https://localhost:8080/"
        },
        "id": "iPLivOe0yy0Q",
        "outputId": "0fc898c9-6031-4359-e36d-a3abdd47f95a"
      },
      "execution_count": null,
      "outputs": [
        {
          "output_type": "stream",
          "name": "stdout",
          "text": [
            "\n",
            "Implications for Modeling:\n",
            "- The strong relationship between 'hours_studied' and 'exam_score' suggests that a regression model could work well.\n",
            "- Features like 'sleep_hours' need to be encoded (e.g., One-Hot Encoding or Label Encoding).\n",
            "- Outliers in the 'exam_score' and 'hours_studied' columns have been removed, ensuring the model is not skewed.\n",
            "- Scaling the data may be necessary if we use models sensitive to feature scales (e.g., SVM, KNN).\n"
          ]
        }
      ]
    },
    {
      "cell_type": "code",
      "source": [],
      "metadata": {
        "id": "g5lcpgcQyyzg"
      },
      "execution_count": null,
      "outputs": []
    }
  ],
  "metadata": {
    "colab": {
      "provenance": []
    },
    "kernelspec": {
      "display_name": "Python 3",
      "name": "python3"
    }
  },
  "nbformat": 4,
  "nbformat_minor": 0
}